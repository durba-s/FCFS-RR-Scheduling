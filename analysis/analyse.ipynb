{
 "cells": [
  {
   "cell_type": "code",
   "execution_count": null,
   "metadata": {},
   "outputs": [],
   "source": [
    "import pandas as pd"
   ]
  },
  {
   "cell_type": "code",
   "execution_count": null,
   "metadata": {},
   "outputs": [],
   "source": [
    "df = pd.read_csv(\"../stats.csv\")\n",
    "df['start_time'] = pd.to_datetime(df['start_time'], unit='s')\n",
    "df.describe()"
   ]
  },
  {
   "cell_type": "code",
   "execution_count": null,
   "metadata": {},
   "outputs": [],
   "source": [
    "tuples = df[['ni']]\n",
    "tuples.value_counts()"
   ]
  },
  {
   "cell_type": "code",
   "execution_count": null,
   "metadata": {},
   "outputs": [],
   "source": [
    "res = []\n",
    "for idx in range(len(df) // 3):\n",
    "    idx = 3 * idx\n",
    "\n",
    "    p_0 = df.iloc[idx + 0]['process_no'] + 1\n",
    "    p_1 = df.iloc[idx + 1]['process_no'] + 1\n",
    "    p_2 = df.iloc[idx + 2]['process_no'] + 1\n",
    "\n",
    "    res.append(\n",
    "        {\n",
    "            \"index\": idx // 3,\n",
    "            \"scheduling_algorithm\": df.iloc[idx][\"scheduling_algorithm\"],\n",
    "            \"batch_size\": df.iloc[idx][\"batch_size\"],\n",
    "            \"time_quantum\": df.iloc[idx][\"time_quantum\"],\n",
    "            f\"n{p_0}\": df.iloc[idx + 0][\"ni\"],\n",
    "            f\"n{p_1}\": df.iloc[idx + 1][\"ni\"],\n",
    "            f\"n{p_2}\": df.iloc[idx + 2][\"ni\"],\n",
    "            f\"st_{p_0}\": df.iloc[idx + 0][\"start_time\"],\n",
    "            f\"st_{p_1}\": df.iloc[idx + 1][\"start_time\"],\n",
    "            f\"st_{p_2}\": df.iloc[idx + 2][\"start_time\"],\n",
    "            f\"wt_{p_0}\": df.iloc[idx + 0][\"total_waiting_time\"],\n",
    "            f\"wt_{p_1}\": df.iloc[idx + 1][\"total_waiting_time\"],\n",
    "            f\"wt_{p_2}\": df.iloc[idx + 2][\"total_waiting_time\"],\n",
    "            f\"tat_{p_0}\": df.iloc[idx + 0][\"turn_around_time\"],\n",
    "            f\"tat_{p_1}\": df.iloc[idx + 1][\"turn_around_time\"],\n",
    "            f\"tat_{p_2}\": df.iloc[idx + 2][\"turn_around_time\"],\n",
    "        }\n",
    "    )\n"
   ]
  },
  {
   "cell_type": "code",
   "execution_count": null,
   "metadata": {},
   "outputs": [],
   "source": [
    "stats = pd.DataFrame(res)\n",
    "stats.to_csv('formatted_stats.csv', index=False)"
   ]
  }
 ],
 "metadata": {
  "interpreter": {
   "hash": "60f28a8fceb70ae9bade7124292b097dd4ca3cadc7afb7fa6764efa373ec1ed9"
  },
  "kernelspec": {
   "display_name": "Python 3.9.5 64-bit ('base': conda)",
   "language": "python",
   "name": "python3"
  },
  "language_info": {
   "codemirror_mode": {
    "name": "ipython",
    "version": 3
   },
   "file_extension": ".py",
   "mimetype": "text/x-python",
   "name": "python",
   "nbconvert_exporter": "python",
   "pygments_lexer": "ipython3",
   "version": "3.9.5"
  },
  "orig_nbformat": 4
 },
 "nbformat": 4,
 "nbformat_minor": 2
}
